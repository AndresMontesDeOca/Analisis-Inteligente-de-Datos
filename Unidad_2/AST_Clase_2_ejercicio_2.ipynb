{
  "nbformat": 4,
  "nbformat_minor": 0,
  "metadata": {
    "colab": {
      "provenance": [],
      "include_colab_link": true
    },
    "kernelspec": {
      "name": "python3",
      "display_name": "Python 3"
    },
    "language_info": {
      "name": "python"
    }
  },
  "cells": [
    {
      "cell_type": "markdown",
      "metadata": {
        "id": "view-in-github",
        "colab_type": "text"
      },
      "source": [
        "<a href=\"https://colab.research.google.com/github/AndresMontesDeOca/Analisis-Inteligente-de-Datos/blob/main/Unidad_2/AST_Clase_2_ejercicio_2.ipynb\" target=\"_parent\"><img src=\"https://colab.research.google.com/assets/colab-badge.svg\" alt=\"Open In Colab\"/></a>"
      ]
    },
    {
      "cell_type": "markdown",
      "source": [
        "<div class=\"alert alert-block alert-info\">\n",
        "    <h1>Análisis de Series Temporales - 2023</h1>\n",
        "    <h3>Clase 2</h3>\n",
        "    <h5>Ejercicio 2</h5>\n",
        "        <p>Docente: Rodrigo Del Rosso<p>\n",
        "        <p>Asistentes: Sebastián Calcagno y Braian Drago <p>\n",
        "</div>"
      ],
      "metadata": {
        "id": "qjwXZjoq9cBo"
      }
    },
    {
      "cell_type": "code",
      "source": [
        "from statsmodels.graphics.tsaplots import plot_acf, plot_pacf\n",
        "from statsmodels.tsa.arima_process import ArmaProcess\n",
        "from statsmodels.tsa.arima_model import ARIMA\n",
        "from statsmodels.tsa.arima_model import ARMA\n",
        "\n",
        "import matplotlib.pyplot as plt\n",
        "import numpy as np\n",
        "\n",
        "import warnings\n",
        "warnings.filterwarnings('ignore')\n",
        "\n",
        "%matplotlib inline"
      ],
      "metadata": {
        "id": "3fSkDkgx9hnb"
      },
      "execution_count": null,
      "outputs": []
    },
    {
      "cell_type": "code",
      "source": [
        "plt.rcParams['figure.figsize']=[10,7.5]"
      ],
      "metadata": {
        "id": "F426zt9eeS-W"
      },
      "execution_count": null,
      "outputs": []
    },
    {
      "cell_type": "markdown",
      "source": [
        "Simulamos un AR(2)"
      ],
      "metadata": {
        "id": "HAfdDJ9t_81Z"
      }
    },
    {
      "cell_type": "code",
      "source": [
        "ar2=np.array([1,0.33,0.5])"
      ],
      "metadata": {
        "id": "wXuVtKODgPb_"
      },
      "execution_count": null,
      "outputs": []
    },
    {
      "cell_type": "code",
      "source": [
        "AR2= ArmaProcess(ar2).generate_sample(nsample=1000)"
      ],
      "metadata": {
        "id": "sLm1dKVcg3jP"
      },
      "execution_count": null,
      "outputs": []
    },
    {
      "cell_type": "code",
      "source": [
        "plt.plot(AR2)\n",
        "plt.title('Grafico de la serie original')\n",
        "plt.xlim([0,200])\n",
        "plt.show()"
      ],
      "metadata": {
        "id": "J-pXpCiWg_qx"
      },
      "execution_count": null,
      "outputs": []
    },
    {
      "cell_type": "code",
      "source": [
        "plot_acf(AR2);\n",
        "plot_pacf(AR2);"
      ],
      "metadata": {
        "id": "G2pF4N_nhXvG"
      },
      "execution_count": null,
      "outputs": []
    },
    {
      "cell_type": "markdown",
      "source": [
        "comentario 1"
      ],
      "metadata": {
        "id": "LjHNGHBOGgba"
      }
    },
    {
      "cell_type": "markdown",
      "source": [
        "Aqui vamos a trabajar con un modelo AR2"
      ],
      "metadata": {
        "id": "nWH6uINFumJu"
      }
    },
    {
      "cell_type": "code",
      "source": [
        "from statsmodels.tsa.arima_model import ARMA\n",
        "import statsmodels.api as sm"
      ],
      "metadata": {
        "id": "67-1q9hCruTl"
      },
      "execution_count": null,
      "outputs": []
    },
    {
      "cell_type": "code",
      "source": [
        "modeloAR2 = sm.tsa.arima.ARIMA(AR2, order=(2,0,0))\n",
        "resultadosAR2 = modeloAR2.fit()"
      ],
      "metadata": {
        "id": "E9B6VEfnEOSL"
      },
      "execution_count": null,
      "outputs": []
    },
    {
      "cell_type": "code",
      "source": [
        "resultadosAR2.summary()"
      ],
      "metadata": {
        "id": "N7VmpVPjEhA_"
      },
      "execution_count": null,
      "outputs": []
    },
    {
      "cell_type": "code",
      "source": [
        "print(f\"Los parametros del componente AR que arroja el modelo son= \\n {resultadosAR2.polynomial_ar} \")"
      ],
      "metadata": {
        "id": "MxQpWD-tNvup"
      },
      "execution_count": null,
      "outputs": []
    }
  ]
}