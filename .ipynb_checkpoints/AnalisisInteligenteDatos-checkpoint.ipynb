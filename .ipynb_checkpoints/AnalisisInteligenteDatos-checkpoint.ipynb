{
 "cells": [
  {
   "cell_type": "markdown",
   "id": "d4903bc0",
   "metadata": {},
   "source": [
    "<h1><center>Analisis Inteligente de Datos</center></h1>"
   ]
  },
  {
   "cell_type": "code",
   "execution_count": null,
   "id": "29dc5c93",
   "metadata": {},
   "outputs": [],
   "source": [
    "#  24 Oct 2022   >>>   Notebook Creation\n",
    "\n",
    "# Author: Andres Montes de Oca\n",
    "# GitHub: https://github.com/AndresMontesDeOca"
   ]
  },
  {
   "cell_type": "code",
   "execution_count": 1,
   "id": "cbe3c23c",
   "metadata": {},
   "outputs": [],
   "source": [
    "from IPython.display import Image\n",
    "import numpy as np\n",
    "import pandas as pd\n",
    "import matplotlib.pyplot as plt\n",
    "import seaborn as sns"
   ]
  },
  {
   "cell_type": "markdown",
   "id": "e6412d1f",
   "metadata": {},
   "source": [
    "## Ejercicio #1"
   ]
  },
  {
   "cell_type": "code",
   "execution_count": null,
   "id": "f773d67a",
   "metadata": {
    "scrolled": false
   },
   "outputs": [],
   "source": [
    "# display(Image('Data/ej_1.png')) "
   ]
  },
  {
   "cell_type": "code",
   "execution_count": 2,
   "id": "8b4a438a",
   "metadata": {},
   "outputs": [],
   "source": [
    "# DataFrames Population\n",
    "\n",
    "index = pd.Series(['Mariana', 'Maia', 'Sabrina', 'Daniela', 'Alejandra', 'Carla'], name='CandidateName')\n",
    "features = pd.Series(['Cordialidad', 'Presencia', 'Idioma'])\n",
    "\n",
    "c1 = pd.Series([80, 80, 90, 80, 70, 90])\n",
    "c2 = pd.Series([90, 90, 60, 50, 60, 85])\n",
    "c3 = pd.Series([70, 60, 50, 50, 50, 60])\n",
    "c4 = pd.Series([60, 65, 70, 70, 55, 80])\n",
    "c5 = pd.Series([78, 90, 60, 58, 70, 90])\n",
    "c6 = pd.Series([80, 65, 50, 40, 65, 40])\n",
    "\n",
    "\n",
    "data_juez1 = pd.concat([index, c1, c2, c3], axis=1).set_index('CandidateName').rename(columns=features)\n",
    "data_juez2 = pd.concat([index, c4, c5, c6], axis=1).set_index('CandidateName').rename(columns=features)\n",
    "jueces = [data_juez1, data_juez2]"
   ]
  },
  {
   "cell_type": "markdown",
   "id": "b2f00e45",
   "metadata": {},
   "source": [
    "#### 1)"
   ]
  },
  {
   "cell_type": "code",
   "execution_count": 3,
   "id": "19bacad9",
   "metadata": {
    "scrolled": true
   },
   "outputs": [
    {
     "name": "stdout",
     "output_type": "stream",
     "text": [
      "CandidateName\n",
      "Mariana      80.000000\n",
      "Maia         76.666667\n",
      "Sabrina      66.666667\n",
      "Daniela      60.000000\n",
      "Alejandra    60.000000\n",
      "Carla        78.333333\n",
      "dtype: float64\n",
      "\n",
      "Top Performer: Mariana \n",
      "\n",
      "CandidateName\n",
      "Mariana      72.666667\n",
      "Maia         73.333333\n",
      "Sabrina      60.000000\n",
      "Daniela      56.000000\n",
      "Alejandra    63.333333\n",
      "Carla        70.000000\n",
      "dtype: float64\n",
      "\n",
      "Top Performer: Maia \n",
      "\n"
     ]
    }
   ],
   "source": [
    "for juez in jueces:\n",
    "    print(juez.mean(axis=1))\n",
    "    print('\\nTop Performer:', juez.mean(axis=1).idxmax(), '\\n')"
   ]
  },
  {
   "cell_type": "markdown",
   "id": "3bcd428d",
   "metadata": {},
   "source": [
    "#### 2)"
   ]
  },
  {
   "cell_type": "code",
   "execution_count": 4,
   "id": "20750e6b",
   "metadata": {
    "scrolled": true
   },
   "outputs": [
    {
     "data": {
      "text/plain": [
       "CandidateName\n",
       "Mariana      76.333333\n",
       "Maia         75.000000\n",
       "Sabrina      63.333333\n",
       "Daniela      58.000000\n",
       "Alejandra    61.666667\n",
       "Carla        74.166667\n",
       "dtype: float64"
      ]
     },
     "execution_count": 4,
     "metadata": {},
     "output_type": "execute_result"
    }
   ],
   "source": [
    "# Concat both DF\n",
    "data = pd.concat([data_juez1, data_juez2], axis=1)\n",
    "\n",
    "data.mean(axis=1)"
   ]
  },
  {
   "cell_type": "markdown",
   "id": "90c09894",
   "metadata": {},
   "source": [
    "#### 3)"
   ]
  },
  {
   "cell_type": "code",
   "execution_count": 5,
   "id": "5a8c47ad",
   "metadata": {
    "scrolled": true
   },
   "outputs": [
    {
     "data": {
      "text/html": [
       "<div>\n",
       "<style scoped>\n",
       "    .dataframe tbody tr th:only-of-type {\n",
       "        vertical-align: middle;\n",
       "    }\n",
       "\n",
       "    .dataframe tbody tr th {\n",
       "        vertical-align: top;\n",
       "    }\n",
       "\n",
       "    .dataframe thead th {\n",
       "        text-align: right;\n",
       "    }\n",
       "</style>\n",
       "<table border=\"1\" class=\"dataframe\">\n",
       "  <thead>\n",
       "    <tr style=\"text-align: right;\">\n",
       "      <th></th>\n",
       "      <th>Cordialidad</th>\n",
       "      <th>Presencia</th>\n",
       "      <th>Idioma</th>\n",
       "      <th>Cordialidad</th>\n",
       "      <th>Presencia</th>\n",
       "      <th>Idioma</th>\n",
       "    </tr>\n",
       "    <tr>\n",
       "      <th>CandidateName</th>\n",
       "      <th></th>\n",
       "      <th></th>\n",
       "      <th></th>\n",
       "      <th></th>\n",
       "      <th></th>\n",
       "      <th></th>\n",
       "    </tr>\n",
       "  </thead>\n",
       "  <tbody>\n",
       "    <tr>\n",
       "      <th>Mariana</th>\n",
       "      <td>-0.242536</td>\n",
       "      <td>1.075863</td>\n",
       "      <td>1.788854</td>\n",
       "      <td>-0.834058</td>\n",
       "      <td>0.284684</td>\n",
       "      <td>1.595448</td>\n",
       "    </tr>\n",
       "    <tr>\n",
       "      <th>Maia</th>\n",
       "      <td>-0.242536</td>\n",
       "      <td>1.075863</td>\n",
       "      <td>0.447214</td>\n",
       "      <td>-0.208514</td>\n",
       "      <td>1.216376</td>\n",
       "      <td>0.569803</td>\n",
       "    </tr>\n",
       "    <tr>\n",
       "      <th>Sabrina</th>\n",
       "      <td>1.212678</td>\n",
       "      <td>-0.768473</td>\n",
       "      <td>-0.894427</td>\n",
       "      <td>0.417029</td>\n",
       "      <td>-1.112855</td>\n",
       "      <td>-0.455842</td>\n",
       "    </tr>\n",
       "    <tr>\n",
       "      <th>Daniela</th>\n",
       "      <td>-0.242536</td>\n",
       "      <td>-1.383252</td>\n",
       "      <td>-0.894427</td>\n",
       "      <td>0.417029</td>\n",
       "      <td>-1.268137</td>\n",
       "      <td>-1.139606</td>\n",
       "    </tr>\n",
       "    <tr>\n",
       "      <th>Alejandra</th>\n",
       "      <td>-1.697749</td>\n",
       "      <td>-0.768473</td>\n",
       "      <td>-0.894427</td>\n",
       "      <td>-1.459601</td>\n",
       "      <td>-0.336445</td>\n",
       "      <td>0.569803</td>\n",
       "    </tr>\n",
       "    <tr>\n",
       "      <th>Carla</th>\n",
       "      <td>1.212678</td>\n",
       "      <td>0.768473</td>\n",
       "      <td>0.447214</td>\n",
       "      <td>1.668115</td>\n",
       "      <td>1.216376</td>\n",
       "      <td>-1.139606</td>\n",
       "    </tr>\n",
       "  </tbody>\n",
       "</table>\n",
       "</div>"
      ],
      "text/plain": [
       "               Cordialidad  Presencia    Idioma  Cordialidad  Presencia  \\\n",
       "CandidateName                                                             \n",
       "Mariana          -0.242536   1.075863  1.788854    -0.834058   0.284684   \n",
       "Maia             -0.242536   1.075863  0.447214    -0.208514   1.216376   \n",
       "Sabrina           1.212678  -0.768473 -0.894427     0.417029  -1.112855   \n",
       "Daniela          -0.242536  -1.383252 -0.894427     0.417029  -1.268137   \n",
       "Alejandra        -1.697749  -0.768473 -0.894427    -1.459601  -0.336445   \n",
       "Carla             1.212678   0.768473  0.447214     1.668115   1.216376   \n",
       "\n",
       "                 Idioma  \n",
       "CandidateName            \n",
       "Mariana        1.595448  \n",
       "Maia           0.569803  \n",
       "Sabrina       -0.455842  \n",
       "Daniela       -1.139606  \n",
       "Alejandra      0.569803  \n",
       "Carla         -1.139606  "
      ]
     },
     "metadata": {},
     "output_type": "display_data"
    },
    {
     "data": {
      "text/html": [
       "<div>\n",
       "<style scoped>\n",
       "    .dataframe tbody tr th:only-of-type {\n",
       "        vertical-align: middle;\n",
       "    }\n",
       "\n",
       "    .dataframe tbody tr th {\n",
       "        vertical-align: top;\n",
       "    }\n",
       "\n",
       "    .dataframe thead th {\n",
       "        text-align: right;\n",
       "    }\n",
       "</style>\n",
       "<table border=\"1\" class=\"dataframe\">\n",
       "  <thead>\n",
       "    <tr style=\"text-align: right;\">\n",
       "      <th></th>\n",
       "      <th>mean</th>\n",
       "      <th>std</th>\n",
       "    </tr>\n",
       "  </thead>\n",
       "  <tbody>\n",
       "    <tr>\n",
       "      <th>Cordialidad</th>\n",
       "      <td>-7.401487e-16</td>\n",
       "      <td>1.095445</td>\n",
       "    </tr>\n",
       "    <tr>\n",
       "      <th>Presencia</th>\n",
       "      <td>0.000000e+00</td>\n",
       "      <td>1.095445</td>\n",
       "    </tr>\n",
       "    <tr>\n",
       "      <th>Idioma</th>\n",
       "      <td>2.498002e-16</td>\n",
       "      <td>1.095445</td>\n",
       "    </tr>\n",
       "    <tr>\n",
       "      <th>Cordialidad</th>\n",
       "      <td>-5.551115e-16</td>\n",
       "      <td>1.095445</td>\n",
       "    </tr>\n",
       "    <tr>\n",
       "      <th>Presencia</th>\n",
       "      <td>3.700743e-16</td>\n",
       "      <td>1.095445</td>\n",
       "    </tr>\n",
       "    <tr>\n",
       "      <th>Idioma</th>\n",
       "      <td>1.850372e-16</td>\n",
       "      <td>1.095445</td>\n",
       "    </tr>\n",
       "  </tbody>\n",
       "</table>\n",
       "</div>"
      ],
      "text/plain": [
       "                     mean       std\n",
       "Cordialidad -7.401487e-16  1.095445\n",
       "Presencia    0.000000e+00  1.095445\n",
       "Idioma       2.498002e-16  1.095445\n",
       "Cordialidad -5.551115e-16  1.095445\n",
       "Presencia    3.700743e-16  1.095445\n",
       "Idioma       1.850372e-16  1.095445"
      ]
     },
     "metadata": {},
     "output_type": "display_data"
    }
   ],
   "source": [
    "# Lets Normalize\n",
    "from sklearn.preprocessing import StandardScaler\n",
    "\n",
    "data_std = pd.DataFrame(StandardScaler().fit_transform(data), columns=data.columns, index = data.index)\n",
    "display(data_std)\n",
    "\n",
    "display(data_std.describe().T[['mean', 'std']])\n",
    "\n",
    "# Poder identificar facilmente lsa debilidades y fortalezas de cada candidata"
   ]
  },
  {
   "cell_type": "markdown",
   "id": "8b288b7c",
   "metadata": {},
   "source": [
    "#### 4)"
   ]
  },
  {
   "cell_type": "code",
   "execution_count": 14,
   "id": "6d7e97b4",
   "metadata": {
    "scrolled": true
   },
   "outputs": [
    {
     "data": {
      "text/html": [
       "<div>\n",
       "<style scoped>\n",
       "    .dataframe tbody tr th:only-of-type {\n",
       "        vertical-align: middle;\n",
       "    }\n",
       "\n",
       "    .dataframe tbody tr th {\n",
       "        vertical-align: top;\n",
       "    }\n",
       "\n",
       "    .dataframe thead th {\n",
       "        text-align: right;\n",
       "    }\n",
       "</style>\n",
       "<table border=\"1\" class=\"dataframe\">\n",
       "  <thead>\n",
       "    <tr style=\"text-align: right;\">\n",
       "      <th>CandidateName</th>\n",
       "      <th>Mariana</th>\n",
       "      <th>Maia</th>\n",
       "      <th>Sabrina</th>\n",
       "      <th>Daniela</th>\n",
       "      <th>Alejandra</th>\n",
       "      <th>Carla</th>\n",
       "    </tr>\n",
       "  </thead>\n",
       "  <tbody>\n",
       "    <tr>\n",
       "      <th>Cordialidad</th>\n",
       "      <td>80</td>\n",
       "      <td>80</td>\n",
       "      <td>90</td>\n",
       "      <td>80</td>\n",
       "      <td>70</td>\n",
       "      <td>90</td>\n",
       "    </tr>\n",
       "    <tr>\n",
       "      <th>Presencia</th>\n",
       "      <td>90</td>\n",
       "      <td>90</td>\n",
       "      <td>60</td>\n",
       "      <td>50</td>\n",
       "      <td>60</td>\n",
       "      <td>85</td>\n",
       "    </tr>\n",
       "    <tr>\n",
       "      <th>Idioma</th>\n",
       "      <td>70</td>\n",
       "      <td>60</td>\n",
       "      <td>50</td>\n",
       "      <td>50</td>\n",
       "      <td>50</td>\n",
       "      <td>60</td>\n",
       "    </tr>\n",
       "  </tbody>\n",
       "</table>\n",
       "</div>"
      ],
      "text/plain": [
       "CandidateName  Mariana  Maia  Sabrina  Daniela  Alejandra  Carla\n",
       "Cordialidad         80    80       90       80         70     90\n",
       "Presencia           90    90       60       50         60     85\n",
       "Idioma              70    60       50       50         50     60"
      ]
     },
     "metadata": {},
     "output_type": "display_data"
    }
   ],
   "source": [
    "# No termino de entender la pregunta\n",
    "\n",
    "display(data_juez1.T)\n",
    "\n",
    "# Standarization\n",
    "# data_juez1_std = pd.DataFrame(StandardScaler().fit_transform(data_juez1), columns=data_juez1.columns, index = data_juez1.index)\n",
    "\n",
    "\n",
    "# Plot\n",
    "# sns.pairplot(data_juez1_std)\n",
    "# plt.show()\n"
   ]
  },
  {
   "cell_type": "markdown",
   "id": "1067ffd7",
   "metadata": {},
   "source": [
    "#### PairPlot"
   ]
  },
  {
   "cell_type": "code",
   "execution_count": 24,
   "id": "ab4d02ad",
   "metadata": {
    "scrolled": true
   },
   "outputs": [
    {
     "data": {
      "text/html": [
       "<div>\n",
       "<style scoped>\n",
       "    .dataframe tbody tr th:only-of-type {\n",
       "        vertical-align: middle;\n",
       "    }\n",
       "\n",
       "    .dataframe tbody tr th {\n",
       "        vertical-align: top;\n",
       "    }\n",
       "\n",
       "    .dataframe thead th {\n",
       "        text-align: right;\n",
       "    }\n",
       "</style>\n",
       "<table border=\"1\" class=\"dataframe\">\n",
       "  <thead>\n",
       "    <tr style=\"text-align: right;\">\n",
       "      <th></th>\n",
       "      <th>Cordialidad</th>\n",
       "      <th>Presencia</th>\n",
       "      <th>Idioma</th>\n",
       "      <th>Cordialidad</th>\n",
       "      <th>Presencia</th>\n",
       "      <th>Idioma</th>\n",
       "    </tr>\n",
       "    <tr>\n",
       "      <th>CandidateName</th>\n",
       "      <th></th>\n",
       "      <th></th>\n",
       "      <th></th>\n",
       "      <th></th>\n",
       "      <th></th>\n",
       "      <th></th>\n",
       "    </tr>\n",
       "  </thead>\n",
       "  <tbody>\n",
       "    <tr>\n",
       "      <th>Mariana</th>\n",
       "      <td>-0.242536</td>\n",
       "      <td>1.075863</td>\n",
       "      <td>1.788854</td>\n",
       "      <td>-0.834058</td>\n",
       "      <td>0.284684</td>\n",
       "      <td>1.595448</td>\n",
       "    </tr>\n",
       "    <tr>\n",
       "      <th>Maia</th>\n",
       "      <td>-0.242536</td>\n",
       "      <td>1.075863</td>\n",
       "      <td>0.447214</td>\n",
       "      <td>-0.208514</td>\n",
       "      <td>1.216376</td>\n",
       "      <td>0.569803</td>\n",
       "    </tr>\n",
       "    <tr>\n",
       "      <th>Sabrina</th>\n",
       "      <td>1.212678</td>\n",
       "      <td>-0.768473</td>\n",
       "      <td>-0.894427</td>\n",
       "      <td>0.417029</td>\n",
       "      <td>-1.112855</td>\n",
       "      <td>-0.455842</td>\n",
       "    </tr>\n",
       "    <tr>\n",
       "      <th>Daniela</th>\n",
       "      <td>-0.242536</td>\n",
       "      <td>-1.383252</td>\n",
       "      <td>-0.894427</td>\n",
       "      <td>0.417029</td>\n",
       "      <td>-1.268137</td>\n",
       "      <td>-1.139606</td>\n",
       "    </tr>\n",
       "    <tr>\n",
       "      <th>Alejandra</th>\n",
       "      <td>-1.697749</td>\n",
       "      <td>-0.768473</td>\n",
       "      <td>-0.894427</td>\n",
       "      <td>-1.459601</td>\n",
       "      <td>-0.336445</td>\n",
       "      <td>0.569803</td>\n",
       "    </tr>\n",
       "    <tr>\n",
       "      <th>Carla</th>\n",
       "      <td>1.212678</td>\n",
       "      <td>0.768473</td>\n",
       "      <td>0.447214</td>\n",
       "      <td>1.668115</td>\n",
       "      <td>1.216376</td>\n",
       "      <td>-1.139606</td>\n",
       "    </tr>\n",
       "  </tbody>\n",
       "</table>\n",
       "</div>"
      ],
      "text/plain": [
       "               Cordialidad  Presencia    Idioma  Cordialidad  Presencia  \\\n",
       "CandidateName                                                             \n",
       "Mariana          -0.242536   1.075863  1.788854    -0.834058   0.284684   \n",
       "Maia             -0.242536   1.075863  0.447214    -0.208514   1.216376   \n",
       "Sabrina           1.212678  -0.768473 -0.894427     0.417029  -1.112855   \n",
       "Daniela          -0.242536  -1.383252 -0.894427     0.417029  -1.268137   \n",
       "Alejandra        -1.697749  -0.768473 -0.894427    -1.459601  -0.336445   \n",
       "Carla             1.212678   0.768473  0.447214     1.668115   1.216376   \n",
       "\n",
       "                 Idioma  \n",
       "CandidateName            \n",
       "Mariana        1.595448  \n",
       "Maia           0.569803  \n",
       "Sabrina       -0.455842  \n",
       "Daniela       -1.139606  \n",
       "Alejandra      0.569803  \n",
       "Carla         -1.139606  "
      ]
     },
     "execution_count": 24,
     "metadata": {},
     "output_type": "execute_result"
    }
   ],
   "source": [
    "data_std"
   ]
  }
 ],
 "metadata": {
  "kernelspec": {
   "display_name": "Python 3 (ipykernel)",
   "language": "python",
   "name": "python3"
  },
  "language_info": {
   "codemirror_mode": {
    "name": "ipython",
    "version": 3
   },
   "file_extension": ".py",
   "mimetype": "text/x-python",
   "name": "python",
   "nbconvert_exporter": "python",
   "pygments_lexer": "ipython3",
   "version": "3.10.4"
  }
 },
 "nbformat": 4,
 "nbformat_minor": 5
}
